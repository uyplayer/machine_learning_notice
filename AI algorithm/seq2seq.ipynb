{
 "cells": [
  {
   "cell_type": "code",
   "execution_count": 1,
   "metadata": {},
   "outputs": [],
   "source": [
    "import torch\n",
    "import torch.nn as nn\n",
    "from torch import optim\n",
    "import torch.nn.functional as F\n",
    "from torch.autograd import Variable"
   ]
  },
  {
   "cell_type": "code",
   "execution_count": 2,
   "metadata": {},
   "outputs": [],
   "source": [
    "class Encoder(nn.Module):\n",
    "  def __init__(self, input_size, hidden_size, bidirectional = True):\n",
    "    super(Encoder, self).__init__()\n",
    "    self.hidden_size = hidden_size\n",
    "    self.input_size = input_size\n",
    "    self.bidirectional = bidirectional\n",
    "    \n",
    "    self.lstm = nn.LSTM(input_size, hidden_size, bidirectional = bidirectional)\n",
    "  \n",
    "  def forward(self, inputs, hidden):\n",
    "    \n",
    "    output, hidden = self.lstm(inputs.view(1, 1, self.input_size), hidden)\n",
    "    return output, hidden\n",
    "    \n",
    "  def init_hidden(self):\n",
    "    return (torch.zeros(1 + int(self.bidirectional), 1, self.hidden_size),\n",
    "      torch.zeros(1 + int(self.bidirectional), 1, self.hidden_size))"
   ]
  },
  {
   "cell_type": "code",
   "execution_count": 3,
   "metadata": {},
   "outputs": [],
   "source": [
    "class AttentionDecoder(nn.Module):\n",
    "  \n",
    "  def __init__(self, hidden_size, output_size, vocab_size):\n",
    "    super(AttentionDecoder, self).__init__()\n",
    "    self.hidden_size = hidden_size\n",
    "    self.output_size = output_size\n",
    "    \n",
    "    self.attn = nn.Linear(hidden_size + output_size, 1)\n",
    "    self.lstm = nn.LSTM(hidden_size + vocab_size, output_size) #if we are using embedding hidden_size should be added with embedding of vocab size\n",
    "    self.final = nn.Linear(output_size, vocab_size)\n",
    "  \n",
    "  def init_hidden(self):\n",
    "    return (torch.zeros(1, 1, self.output_size),\n",
    "      torch.zeros(1, 1, self.output_size))\n",
    "  \n",
    "  def forward(self, decoder_hidden, encoder_outputs, input):\n",
    "    \n",
    "    weights = []\n",
    "    for i in range(len(encoder_outputs)):\n",
    "      print(decoder_hidden[0][0].shape)\n",
    "      print(encoder_outputs[0].shape)\n",
    "      weights.append(self.attn(torch.cat((decoder_hidden[0][0], \n",
    "                                          encoder_outputs[i]), dim = 1)))\n",
    "    normalized_weights = F.softmax(torch.cat(weights, 1), 1)\n",
    "    \n",
    "    attn_applied = torch.bmm(normalized_weights.unsqueeze(1),\n",
    "                             encoder_outputs.view(1, -1, self.hidden_size))\n",
    "    \n",
    "    input_lstm = torch.cat((attn_applied[0], input[0]), dim = 1) #if we are using embedding, use embedding of input here instead\n",
    "    \n",
    "    output, hidden = self.lstm(input_lstm.unsqueeze(0), decoder_hidden)\n",
    "    \n",
    "    output = self.final(output[0])\n",
    "    \n",
    "    return output, hidden, normalized_weights"
   ]
  },
  {
   "cell_type": "code",
   "execution_count": 6,
   "metadata": {},
   "outputs": [
    {
     "name": "stdout",
     "output_type": "stream",
     "text": [
      "torch.Size([1, 1, 40])\n",
      "torch.Size([2, 1, 20])\n",
      "torch.Size([2, 1, 20])\n",
      "torch.Size([1, 25])\n",
      "torch.Size([1, 40])\n",
      "torch.Size([1, 25])\n",
      "torch.Size([1, 40])\n",
      "torch.Size([1, 30])\n",
      "torch.Size([1, 1, 25])\n",
      "torch.Size([1, 1, 25])\n",
      "tensor([[0.5000, 0.5000]], grad_fn=<SoftmaxBackward>)\n"
     ]
    }
   ],
   "source": [
    "bidirectional = True\n",
    "c = Encoder(10, 20, bidirectional)\n",
    "a, b = c.forward(torch.randn(10), c.init_hidden())\n",
    "print(a.shape)\n",
    "print(b[0].shape)\n",
    "print(b[1].shape)\n",
    "\n",
    "x = AttentionDecoder(20 * (1 + bidirectional), 25, 30)\n",
    "y, z, w = x.forward(x.init_hidden(), torch.cat((a,a)), torch.zeros(1,1, 30)) #Assuming <SOS> to be all zeros\n",
    "print(y.shape)\n",
    "print(z[0].shape)\n",
    "print(z[1].shape)\n",
    "print(w)"
   ]
  },
  {
   "cell_type": "code",
   "execution_count": null,
   "metadata": {},
   "outputs": [],
   "source": []
  }
 ],
 "metadata": {
  "kernelspec": {
   "display_name": "Python 3",
   "language": "python",
   "name": "python3"
  },
  "language_info": {
   "codemirror_mode": {
    "name": "ipython",
    "version": 3
   },
   "file_extension": ".py",
   "mimetype": "text/x-python",
   "name": "python",
   "nbconvert_exporter": "python",
   "pygments_lexer": "ipython3",
   "version": "3.6.9"
  }
 },
 "nbformat": 4,
 "nbformat_minor": 2
}
