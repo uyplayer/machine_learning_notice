{
 "cells": [
  {
   "cell_type": "code",
   "execution_count": 1,
   "metadata": {},
   "outputs": [],
   "source": [
    "# impoer libs\n",
    "import numpy as np\n",
    "import pandas as pd\n",
    "import gensim\n",
    "from gensim.scripts.glove2word2vec import glove2word2vec\n",
    "import re"
   ]
  },
  {
   "cell_type": "code",
   "execution_count": 2,
   "metadata": {},
   "outputs": [],
   "source": [
    "# Read training data\n",
    "df_train = pd.read_csv(\"E:/nlp-getting-started/train.csv\", dtype={'id': np.int16, 'target': np.int8})\n",
    "df_test = pd.read_csv(\"E:/nlp-getting-started/test.csv\", dtype={'id': np.int16})\n",
    "df_test = df_test.sample(frac=1,random_state = 1)\n",
    "df_train = df_train.sample(frac=1,random_state = 1)"
   ]
  },
  {
   "cell_type": "code",
   "execution_count": 3,
   "metadata": {},
   "outputs": [
    {
     "name": "stdout",
     "output_type": "stream",
     "text": [
      "Train Set Shape = (7613, 5)\n",
      "Test Set Shape = (3263, 4)\n"
     ]
    }
   ],
   "source": [
    "print('Train Set Shape = {}'.format(df_train.shape))\n",
    "print('Test Set Shape = {}'.format(df_test.shape))"
   ]
  },
  {
   "cell_type": "code",
   "execution_count": 4,
   "metadata": {},
   "outputs": [
    {
     "name": "stdout",
     "output_type": "stream",
     "text": [
      "Duplicate Set Shape = (110, 5)\n",
      "\n",
      "      id       keyword location                        text  target\n",
      "610  881  bioterrorism      NaN  To fight bioterrorism sir.       1\n",
      "630  907  bioterrorism      NaN  To fight bioterrorism sir.       1\n",
      "624  898  bioterrorism      NaN  To fight bioterrorism sir.       0\n"
     ]
    }
   ],
   "source": [
    "# chenck duplicate data\n",
    "DUPLICATED = df_train[df_train.duplicated(subset=['text'])]\n",
    "print('Duplicate Set Shape = {}\\n'.format(DUPLICATED.shape))\n",
    "\n",
    "# An example of inconsistently labeled duplicate tweet\n",
    "print(DUPLICATED[DUPLICATED['text'] == 'To fight bioterrorism sir.'])"
   ]
  },
  {
   "cell_type": "code",
   "execution_count": 5,
   "metadata": {},
   "outputs": [
    {
     "name": "stdout",
     "output_type": "stream",
     "text": [
      "Training Set Shape = (7503, 5)\n"
     ]
    }
   ],
   "source": [
    "df_train = df_train.sort_values(['text', 'target'], ascending=True).drop_duplicates(subset=['text'], keep=\"last\")\n",
    "print('Training Set Shape = {}'.format(df_train.shape))"
   ]
  },
  {
   "cell_type": "code",
   "execution_count": 6,
   "metadata": {},
   "outputs": [
    {
     "data": {
      "text/html": [
       "<div>\n",
       "<style scoped>\n",
       "    .dataframe tbody tr th:only-of-type {\n",
       "        vertical-align: middle;\n",
       "    }\n",
       "\n",
       "    .dataframe tbody tr th {\n",
       "        vertical-align: top;\n",
       "    }\n",
       "\n",
       "    .dataframe thead th {\n",
       "        text-align: right;\n",
       "    }\n",
       "</style>\n",
       "<table border=\"1\" class=\"dataframe\">\n",
       "  <thead>\n",
       "    <tr style=\"text-align: right;\">\n",
       "      <th></th>\n",
       "      <th>id</th>\n",
       "      <th>keyword</th>\n",
       "      <th>location</th>\n",
       "      <th>text</th>\n",
       "      <th>target</th>\n",
       "    </tr>\n",
       "  </thead>\n",
       "  <tbody>\n",
       "    <tr>\n",
       "      <th>7345</th>\n",
       "      <td>10517</td>\n",
       "      <td>wildfire</td>\n",
       "      <td>NaN</td>\n",
       "      <td>! Residents Return To Destroyed Homes As Washi...</td>\n",
       "      <td>1</td>\n",
       "    </tr>\n",
       "    <tr>\n",
       "      <th>956</th>\n",
       "      <td>1383</td>\n",
       "      <td>body%20bag</td>\n",
       "      <td>NaN</td>\n",
       "      <td># handbags Genuine Mulberry Antony Cross Body ...</td>\n",
       "      <td>0</td>\n",
       "    </tr>\n",
       "    <tr>\n",
       "      <th>5823</th>\n",
       "      <td>8314</td>\n",
       "      <td>rubble</td>\n",
       "      <td>London</td>\n",
       "      <td>#360WiseNews : China's Stock Market Crash: Are...</td>\n",
       "      <td>1</td>\n",
       "    </tr>\n",
       "    <tr>\n",
       "      <th>5833</th>\n",
       "      <td>8334</td>\n",
       "      <td>rubble</td>\n",
       "      <td>Made Here In Detroit</td>\n",
       "      <td>#360WiseNews : China's Stock Market Crash: Are...</td>\n",
       "      <td>1</td>\n",
       "    </tr>\n",
       "    <tr>\n",
       "      <th>5817</th>\n",
       "      <td>8301</td>\n",
       "      <td>rubble</td>\n",
       "      <td>Accra,Ghana</td>\n",
       "      <td>#360WiseNews : China's Stock Market Crash: Are...</td>\n",
       "      <td>0</td>\n",
       "    </tr>\n",
       "  </tbody>\n",
       "</table>\n",
       "</div>"
      ],
      "text/plain": [
       "         id     keyword               location  \\\n",
       "7345  10517    wildfire                    NaN   \n",
       "956    1383  body%20bag                    NaN   \n",
       "5823   8314      rubble                 London   \n",
       "5833   8334      rubble  Made Here In Detroit    \n",
       "5817   8301      rubble            Accra,Ghana   \n",
       "\n",
       "                                                   text  target  \n",
       "7345  ! Residents Return To Destroyed Homes As Washi...       1  \n",
       "956   # handbags Genuine Mulberry Antony Cross Body ...       0  \n",
       "5823  #360WiseNews : China's Stock Market Crash: Are...       1  \n",
       "5833  #360WiseNews : China's Stock Market Crash: Are...       1  \n",
       "5817  #360WiseNews : China's Stock Market Crash: Are...       0  "
      ]
     },
     "execution_count": 6,
     "metadata": {},
     "output_type": "execute_result"
    }
   ],
   "source": [
    "df_train.head()"
   ]
  },
  {
   "cell_type": "code",
   "execution_count": 7,
   "metadata": {},
   "outputs": [
    {
     "name": "stdout",
     "output_type": "stream",
     "text": [
      " start to embeddings\n",
      " end embeddings\n",
      "Found 2195884 word vectors.\n"
     ]
    }
   ],
   "source": [
    "# glove embeddings\n",
    "embeddings_index = {}\n",
    "print(\" start to embeddings\")\n",
    "with open('E:\\glove.840B.300d/glove.840B.300d.txt','r',encoding = 'utf8') as f:\n",
    "    for line in f:\n",
    "        values = line.split()\n",
    "        word = values[0]\n",
    "        try:\n",
    "            coefs = np.array(values[1:]).astype(np.float)\n",
    "        except:\n",
    "            continue\n",
    "        embeddings_index[word] = coefs \n",
    "print(\" end embeddings\")        \n",
    "print('Found %s word vectors.' % len(embeddings_index))"
   ]
  },
  {
   "cell_type": "code",
   "execution_count": 8,
   "metadata": {},
   "outputs": [
    {
     "name": "stdout",
     "output_type": "stream",
     "text": [
      "<class 'pandas.core.frame.DataFrame'>\n",
      "Int64Index: 7503 entries, 7345 to 1628\n",
      "Data columns (total 5 columns):\n",
      " #   Column    Non-Null Count  Dtype \n",
      "---  ------    --------------  ----- \n",
      " 0   id        7503 non-null   int16 \n",
      " 1   keyword   7444 non-null   object\n",
      " 2   location  5022 non-null   object\n",
      " 3   text      7503 non-null   object\n",
      " 4   target    7503 non-null   int8  \n",
      "dtypes: int16(1), int8(1), object(3)\n",
      "memory usage: 256.5+ KB\n",
      "None\n"
     ]
    }
   ],
   "source": [
    "print(df_train.info())"
   ]
  },
  {
   "cell_type": "code",
   "execution_count": 52,
   "metadata": {},
   "outputs": [
    {
     "name": "stdout",
     "output_type": "stream",
     "text": [
      "(300,)\n"
     ]
    },
    {
     "data": {
      "text/plain": [
       "array([-1.3199e-01,  1.5186e-01, -6.5313e-01, -4.2774e-01, -2.0953e-02,\n",
       "        8.6955e-02,  2.5765e-02, -7.1317e-01, -5.0883e-04,  1.2164e+00,\n",
       "       -3.1302e-01, -1.7979e-01,  3.6644e-03, -2.0481e-02, -3.5089e-01,\n",
       "       -2.1615e-01, -1.4409e-01,  1.3247e+00,  9.7853e-02,  3.0863e-02,\n",
       "       -3.2390e-01, -1.8114e-02,  1.4557e-01, -1.1589e-01,  6.8835e-02,\n",
       "       -5.6704e-02, -1.7781e-01, -3.9055e-01,  2.1464e-01, -2.9864e-02,\n",
       "       -1.7463e-01, -5.0940e-02,  2.7805e-01, -1.6439e-01, -1.2356e-01,\n",
       "        1.4804e-01,  1.5432e-01,  2.7682e-01, -7.7963e-02,  5.5154e-02,\n",
       "       -7.6629e-02,  1.4481e-02, -1.9302e-01, -4.4064e-02,  2.1849e-01,\n",
       "        2.2939e-01, -1.7068e-01, -2.0470e-01,  5.9945e-02,  4.1847e-02,\n",
       "       -9.5953e-02,  2.1100e-01,  1.1142e-02, -8.0806e-02, -2.9521e-01,\n",
       "        1.8968e-02, -6.1346e-02, -3.8059e-01,  2.6877e-01,  1.4224e-01,\n",
       "       -5.3062e-01, -3.0773e-01,  4.9165e-03, -1.9610e-01,  3.6298e-02,\n",
       "       -3.9772e-01, -1.0705e-01, -2.0169e-02,  2.3591e-01,  5.8653e-02,\n",
       "        1.1314e-01,  1.0477e-01,  3.2882e-01, -1.5869e-01,  2.8816e-01,\n",
       "        2.4839e-01, -5.8867e-03,  4.7180e-02, -1.0980e-01,  6.6118e-01,\n",
       "       -7.4030e-03,  5.3533e-02, -2.9332e-01,  1.3473e-01, -4.4643e-02,\n",
       "       -1.0196e-01,  1.5398e+00, -6.9647e-01,  1.4691e-01, -2.2642e-02,\n",
       "       -3.4579e-01, -3.5318e-01,  1.9528e-02, -3.4362e-01,  4.3062e-01,\n",
       "        1.9087e-01,  3.0136e-02, -3.9039e-01, -2.2763e-02,  3.8575e-01,\n",
       "       -4.2788e-01, -7.1786e-02,  3.1542e-01,  3.1591e-01,  2.7988e-01,\n",
       "       -3.8786e-01,  2.4771e-01, -4.2466e-01, -4.7561e-01, -1.6939e-02,\n",
       "       -7.1492e-02, -6.2627e-01, -2.8468e-02, -1.1288e-01, -1.1419e-01,\n",
       "        3.7278e-01,  4.4193e-01, -5.4930e-01, -2.2487e-01, -7.6123e-02,\n",
       "       -1.7328e-02,  3.1641e-01,  9.7523e-02,  1.4006e-01,  2.1178e-01,\n",
       "        2.7616e-01,  9.3267e-02, -3.6384e-01,  2.9168e-01,  1.8561e-01,\n",
       "       -2.9111e-01,  6.9414e-03, -3.9034e-01,  1.8924e-01,  5.7898e-01,\n",
       "       -2.7729e-03,  5.6177e-02,  4.0140e-02, -1.1858e-01,  2.5689e-02,\n",
       "       -2.6529e+00,  3.3577e-01,  1.9345e-01, -1.3739e-01, -1.0589e-01,\n",
       "        1.1079e-01, -4.8463e-01,  1.8382e-01, -5.0967e-01, -2.8862e-01,\n",
       "        1.2295e-02, -2.5279e-02, -4.6173e-02, -1.1267e-01,  3.0017e-01,\n",
       "       -3.5060e-01,  1.6836e-01, -1.9441e-01,  1.0160e-01, -3.4407e-01,\n",
       "       -1.4965e-02, -8.7892e-02,  1.4075e-01, -4.9977e-02, -2.2308e-01,\n",
       "       -1.3897e-01, -4.3432e-01,  9.8638e-02, -2.8915e-02, -9.7963e-02,\n",
       "       -7.8806e-02,  1.1027e-01, -3.6833e-01, -2.7936e-01,  8.7367e-02,\n",
       "       -5.2227e-02, -2.3126e-01,  1.8993e-01, -4.2087e-01, -1.6679e-01,\n",
       "        1.6226e-01, -5.2935e-01, -8.3394e-01, -1.5328e-01, -1.5588e-01,\n",
       "        7.9448e-02,  7.2145e-02, -2.3047e-01, -9.8447e-02,  1.7999e-01,\n",
       "        3.1082e-01, -9.6742e-02, -4.6123e-01, -1.6065e-01, -1.7612e-01,\n",
       "        1.0134e-01, -2.4273e-01, -7.4470e-01,  3.7831e-01,  2.7210e-01,\n",
       "        5.8521e-02,  1.5518e-01, -2.3987e-01, -5.5997e-01,  1.1241e-01,\n",
       "        1.4475e-01, -1.5596e-01,  4.6816e-01,  2.7065e-01, -2.4220e-01,\n",
       "       -6.1740e-02, -2.1559e-01,  3.9453e-01, -1.4638e-02,  2.0401e-01,\n",
       "       -1.4415e-01,  2.7515e-01, -3.0772e-01, -4.3669e-01,  1.4350e-01,\n",
       "       -2.5076e-02,  1.0620e-01, -2.3745e-03, -9.4343e-02,  3.3675e-01,\n",
       "        2.3414e-01, -4.0714e-01,  1.4267e-01,  1.2517e-01, -5.5327e-01,\n",
       "       -3.8532e-02,  2.3334e-01,  1.4483e-01,  2.7166e-01,  7.5854e-03,\n",
       "       -7.0826e-02,  2.4067e-01, -3.2603e-01,  6.7259e-03,  2.6003e-01,\n",
       "        4.0575e-02,  9.4024e-02,  1.2067e-01,  1.7772e-01, -7.5091e-02,\n",
       "        4.0728e-02,  2.2514e-01, -1.3161e-01,  2.5971e-01,  2.6902e-01,\n",
       "        2.3344e-01,  1.1640e-01, -3.6632e-01,  1.3097e-01, -6.8561e-02,\n",
       "        6.6187e-02,  3.1088e-02,  2.3415e-01, -4.2810e-01, -2.0738e-01,\n",
       "       -1.4508e-01, -7.2599e-02,  4.5405e-01, -3.7872e-02, -5.1986e-01,\n",
       "       -3.9271e-01, -8.2641e-02,  4.4362e-01,  5.2227e-01,  2.4901e-01,\n",
       "        1.3125e-02, -1.5842e-01,  3.5075e-02,  1.6492e-02, -5.1958e-01,\n",
       "        4.9254e-01,  1.2897e-01, -3.4582e-01, -3.6175e-01,  4.3968e-01,\n",
       "        1.1321e-01, -2.9931e-01, -2.3007e-01, -1.8953e-01, -3.0480e-02,\n",
       "        1.6560e-01, -2.7555e-01, -2.0302e-01,  2.8978e-01,  3.9333e-01,\n",
       "        2.1089e-01,  1.0966e-01, -4.3233e-01, -2.9912e-01,  8.6347e-01,\n",
       "        2.2849e-01,  4.2863e-02, -3.3259e-01, -1.7585e-01,  1.2933e-01])"
      ]
     },
     "execution_count": 52,
     "metadata": {},
     "output_type": "execute_result"
    }
   ],
   "source": [
    "print(embeddings_index['ok'].shape)\n",
    "embeddings_index['ok']"
   ]
  },
  {
   "cell_type": "code",
   "execution_count": 9,
   "metadata": {},
   "outputs": [
    {
     "name": "stdout",
     "output_type": "stream",
     "text": [
      "<class 'pandas.core.frame.DataFrame'>\n",
      "Int64Index: 3263 entries, 1787 to 1061\n",
      "Data columns (total 4 columns):\n",
      " #   Column    Non-Null Count  Dtype \n",
      "---  ------    --------------  ----- \n",
      " 0   id        3263 non-null   int16 \n",
      " 1   keyword   3237 non-null   object\n",
      " 2   location  2158 non-null   object\n",
      " 3   text      3263 non-null   object\n",
      "dtypes: int16(1), object(3)\n",
      "memory usage: 108.3+ KB\n",
      "None\n"
     ]
    }
   ],
   "source": [
    "print(df_test.info())"
   ]
  },
  {
   "cell_type": "code",
   "execution_count": 10,
   "metadata": {},
   "outputs": [
    {
     "data": {
      "text/html": [
       "<div>\n",
       "<style scoped>\n",
       "    .dataframe tbody tr th:only-of-type {\n",
       "        vertical-align: middle;\n",
       "    }\n",
       "\n",
       "    .dataframe tbody tr th {\n",
       "        vertical-align: top;\n",
       "    }\n",
       "\n",
       "    .dataframe thead th {\n",
       "        text-align: right;\n",
       "    }\n",
       "</style>\n",
       "<table border=\"1\" class=\"dataframe\">\n",
       "  <thead>\n",
       "    <tr style=\"text-align: right;\">\n",
       "      <th></th>\n",
       "      <th>id</th>\n",
       "      <th>text</th>\n",
       "      <th>target</th>\n",
       "    </tr>\n",
       "  </thead>\n",
       "  <tbody>\n",
       "    <tr>\n",
       "      <th>7345</th>\n",
       "      <td>10517</td>\n",
       "      <td>! Residents Return To Destroyed Homes As Washi...</td>\n",
       "      <td>1</td>\n",
       "    </tr>\n",
       "    <tr>\n",
       "      <th>956</th>\n",
       "      <td>1383</td>\n",
       "      <td># handbags Genuine Mulberry Antony Cross Body ...</td>\n",
       "      <td>0</td>\n",
       "    </tr>\n",
       "    <tr>\n",
       "      <th>5823</th>\n",
       "      <td>8314</td>\n",
       "      <td>#360WiseNews : China's Stock Market Crash: Are...</td>\n",
       "      <td>1</td>\n",
       "    </tr>\n",
       "    <tr>\n",
       "      <th>5833</th>\n",
       "      <td>8334</td>\n",
       "      <td>#360WiseNews : China's Stock Market Crash: Are...</td>\n",
       "      <td>1</td>\n",
       "    </tr>\n",
       "    <tr>\n",
       "      <th>5817</th>\n",
       "      <td>8301</td>\n",
       "      <td>#360WiseNews : China's Stock Market Crash: Are...</td>\n",
       "      <td>0</td>\n",
       "    </tr>\n",
       "  </tbody>\n",
       "</table>\n",
       "</div>"
      ],
      "text/plain": [
       "         id                                               text  target\n",
       "7345  10517  ! Residents Return To Destroyed Homes As Washi...       1\n",
       "956    1383  # handbags Genuine Mulberry Antony Cross Body ...       0\n",
       "5823   8314  #360WiseNews : China's Stock Market Crash: Are...       1\n",
       "5833   8334  #360WiseNews : China's Stock Market Crash: Are...       1\n",
       "5817   8301  #360WiseNews : China's Stock Market Crash: Are...       0"
      ]
     },
     "execution_count": 10,
     "metadata": {},
     "output_type": "execute_result"
    }
   ],
   "source": [
    "# drop unnecessary colums \n",
    "df_train.drop(['keyword','location'],axis =1, inplace = True)\n",
    "df_train.head()"
   ]
  },
  {
   "cell_type": "code",
   "execution_count": 11,
   "metadata": {},
   "outputs": [
    {
     "data": {
      "text/html": [
       "<div>\n",
       "<style scoped>\n",
       "    .dataframe tbody tr th:only-of-type {\n",
       "        vertical-align: middle;\n",
       "    }\n",
       "\n",
       "    .dataframe tbody tr th {\n",
       "        vertical-align: top;\n",
       "    }\n",
       "\n",
       "    .dataframe thead th {\n",
       "        text-align: right;\n",
       "    }\n",
       "</style>\n",
       "<table border=\"1\" class=\"dataframe\">\n",
       "  <thead>\n",
       "    <tr style=\"text-align: right;\">\n",
       "      <th></th>\n",
       "      <th>id</th>\n",
       "      <th>text</th>\n",
       "    </tr>\n",
       "  </thead>\n",
       "  <tbody>\n",
       "    <tr>\n",
       "      <th>1787</th>\n",
       "      <td>6035</td>\n",
       "      <td>I added some dumb ideas to beat the #summer he...</td>\n",
       "    </tr>\n",
       "    <tr>\n",
       "      <th>666</th>\n",
       "      <td>2168</td>\n",
       "      <td>If a å£1 rise in wages is going to have such a...</td>\n",
       "    </tr>\n",
       "    <tr>\n",
       "      <th>93</th>\n",
       "      <td>317</td>\n",
       "      <td>How do I step outside for 5 seconds and get an...</td>\n",
       "    </tr>\n",
       "    <tr>\n",
       "      <th>2924</th>\n",
       "      <td>9682</td>\n",
       "      <td>Tornado warnings issued for southern Alberta h...</td>\n",
       "    </tr>\n",
       "    <tr>\n",
       "      <th>1735</th>\n",
       "      <td>5857</td>\n",
       "      <td>Get out of the hailstorm and come down to @The...</td>\n",
       "    </tr>\n",
       "  </tbody>\n",
       "</table>\n",
       "</div>"
      ],
      "text/plain": [
       "        id                                               text\n",
       "1787  6035  I added some dumb ideas to beat the #summer he...\n",
       "666   2168  If a å£1 rise in wages is going to have such a...\n",
       "93     317  How do I step outside for 5 seconds and get an...\n",
       "2924  9682  Tornado warnings issued for southern Alberta h...\n",
       "1735  5857  Get out of the hailstorm and come down to @The..."
      ]
     },
     "execution_count": 11,
     "metadata": {},
     "output_type": "execute_result"
    }
   ],
   "source": [
    "df_test.drop(['keyword','location'], axis = 1, inplace = True)\n",
    "\n",
    "df_test.head()"
   ]
  },
  {
   "cell_type": "code",
   "execution_count": 12,
   "metadata": {},
   "outputs": [],
   "source": [
    "# clean the data\n",
    "def clean_text(text):\n",
    "    #2. remove unkonwn characrters\n",
    "    emoji_pattern = re.compile(\"[\"\n",
    "                           u\"\\U0001F600-\\U0001F64F\"  # emoticons\n",
    "                           u\"\\U0001F300-\\U0001F5FF\"  # symbols & pictographs\n",
    "                           u\"\\U0001F680-\\U0001F6FF\"  # transport & map symbols\n",
    "                           u\"\\U0001F1E0-\\U0001F1FF\"  # flags (iOS)\n",
    "                           u\"\\U00002702-\\U000027B0\"\n",
    "                           u\"\\U000024C2-\\U0001F251\"\n",
    "                           \"]+\", flags=re.UNICODE)\n",
    "    text = emoji_pattern.sub(r'', text)\n",
    "   \n",
    "    #1. remove http links\n",
    "    url = re.compile(r'https?://\\S+|www\\.\\S+')\n",
    "    text = url.sub(r'',text)\n",
    "    \n",
    "    #3,4. remove #,@ and othet symbols\n",
    "    text = text.replace('#',' ')\n",
    "    text = text.replace('@',' ')\n",
    "    symbols = re.compile(r'[^A-Za-z0-9 ]')\n",
    "    text = symbols.sub(r'',text)\n",
    "    \n",
    "    #5. lowercase\n",
    "    text = text.lower()\n",
    "    \n",
    "    return text"
   ]
  },
  {
   "cell_type": "code",
   "execution_count": 13,
   "metadata": {},
   "outputs": [],
   "source": [
    "df_train['text'] = df_train['text'].apply(lambda x: clean_text(x))\n",
    "df_test['text'] = df_test['text'].apply(lambda x: clean_text(x))"
   ]
  },
  {
   "cell_type": "code",
   "execution_count": 14,
   "metadata": {},
   "outputs": [
    {
     "data": {
      "text/html": [
       "<div>\n",
       "<style scoped>\n",
       "    .dataframe tbody tr th:only-of-type {\n",
       "        vertical-align: middle;\n",
       "    }\n",
       "\n",
       "    .dataframe tbody tr th {\n",
       "        vertical-align: top;\n",
       "    }\n",
       "\n",
       "    .dataframe thead th {\n",
       "        text-align: right;\n",
       "    }\n",
       "</style>\n",
       "<table border=\"1\" class=\"dataframe\">\n",
       "  <thead>\n",
       "    <tr style=\"text-align: right;\">\n",
       "      <th></th>\n",
       "      <th>id</th>\n",
       "      <th>text</th>\n",
       "      <th>target</th>\n",
       "    </tr>\n",
       "  </thead>\n",
       "  <tbody>\n",
       "    <tr>\n",
       "      <th>7345</th>\n",
       "      <td>10517</td>\n",
       "      <td>residents return to destroyed homes as washin...</td>\n",
       "      <td>1</td>\n",
       "    </tr>\n",
       "    <tr>\n",
       "      <th>956</th>\n",
       "      <td>1383</td>\n",
       "      <td>handbags genuine mulberry antony cross body ...</td>\n",
       "      <td>0</td>\n",
       "    </tr>\n",
       "    <tr>\n",
       "      <th>5823</th>\n",
       "      <td>8314</td>\n",
       "      <td>360wisenews  chinas stock market crash are th...</td>\n",
       "      <td>1</td>\n",
       "    </tr>\n",
       "    <tr>\n",
       "      <th>5833</th>\n",
       "      <td>8334</td>\n",
       "      <td>360wisenews  chinas stock market crash are th...</td>\n",
       "      <td>1</td>\n",
       "    </tr>\n",
       "    <tr>\n",
       "      <th>5817</th>\n",
       "      <td>8301</td>\n",
       "      <td>360wisenews  chinas stock market crash are th...</td>\n",
       "      <td>0</td>\n",
       "    </tr>\n",
       "  </tbody>\n",
       "</table>\n",
       "</div>"
      ],
      "text/plain": [
       "         id                                               text  target\n",
       "7345  10517   residents return to destroyed homes as washin...       1\n",
       "956    1383    handbags genuine mulberry antony cross body ...       0\n",
       "5823   8314   360wisenews  chinas stock market crash are th...       1\n",
       "5833   8334   360wisenews  chinas stock market crash are th...       1\n",
       "5817   8301   360wisenews  chinas stock market crash are th...       0"
      ]
     },
     "execution_count": 14,
     "metadata": {},
     "output_type": "execute_result"
    }
   ],
   "source": [
    "df_train.head()"
   ]
  },
  {
   "cell_type": "code",
   "execution_count": 15,
   "metadata": {},
   "outputs": [
    {
     "data": {
      "text/html": [
       "<div>\n",
       "<style scoped>\n",
       "    .dataframe tbody tr th:only-of-type {\n",
       "        vertical-align: middle;\n",
       "    }\n",
       "\n",
       "    .dataframe tbody tr th {\n",
       "        vertical-align: top;\n",
       "    }\n",
       "\n",
       "    .dataframe thead th {\n",
       "        text-align: right;\n",
       "    }\n",
       "</style>\n",
       "<table border=\"1\" class=\"dataframe\">\n",
       "  <thead>\n",
       "    <tr style=\"text-align: right;\">\n",
       "      <th></th>\n",
       "      <th>id</th>\n",
       "      <th>text</th>\n",
       "    </tr>\n",
       "  </thead>\n",
       "  <tbody>\n",
       "    <tr>\n",
       "      <th>1787</th>\n",
       "      <td>6035</td>\n",
       "      <td>i added some dumb ideas to beat the  summer he...</td>\n",
       "    </tr>\n",
       "    <tr>\n",
       "      <th>666</th>\n",
       "      <td>2168</td>\n",
       "      <td>if a 1 rise in wages is going to have such a c...</td>\n",
       "    </tr>\n",
       "    <tr>\n",
       "      <th>93</th>\n",
       "      <td>317</td>\n",
       "      <td>how do i step outside for 5 seconds and get an...</td>\n",
       "    </tr>\n",
       "    <tr>\n",
       "      <th>2924</th>\n",
       "      <td>9682</td>\n",
       "      <td>tornado warnings issued for southern alberta</td>\n",
       "    </tr>\n",
       "    <tr>\n",
       "      <th>1735</th>\n",
       "      <td>5857</td>\n",
       "      <td>get out of the hailstorm and come down to  the...</td>\n",
       "    </tr>\n",
       "  </tbody>\n",
       "</table>\n",
       "</div>"
      ],
      "text/plain": [
       "        id                                               text\n",
       "1787  6035  i added some dumb ideas to beat the  summer he...\n",
       "666   2168  if a 1 rise in wages is going to have such a c...\n",
       "93     317  how do i step outside for 5 seconds and get an...\n",
       "2924  9682      tornado warnings issued for southern alberta \n",
       "1735  5857  get out of the hailstorm and come down to  the..."
      ]
     },
     "execution_count": 15,
     "metadata": {},
     "output_type": "execute_result"
    }
   ],
   "source": [
    "df_test.head()"
   ]
  },
  {
   "cell_type": "code",
   "execution_count": 18,
   "metadata": {},
   "outputs": [
    {
     "name": "stdout",
     "output_type": "stream",
     "text": [
      "7345    10517\n",
      "956      1383\n",
      "5823     8314\n",
      "5833     8334\n",
      "5817     8301\n",
      "        ...  \n",
      "3815     5420\n",
      "977      1414\n",
      "964      1394\n",
      "2785     4006\n",
      "1628     2351\n",
      "Name: id, Length: 7503, dtype: int16\n"
     ]
    }
   ],
   "source": [
    "print(df_train['id'])"
   ]
  },
  {
   "cell_type": "code",
   "execution_count": 19,
   "metadata": {},
   "outputs": [],
   "source": [
    "train_id = df_train['id']"
   ]
  },
  {
   "cell_type": "code",
   "execution_count": 20,
   "metadata": {},
   "outputs": [
    {
     "data": {
      "text/html": [
       "<div>\n",
       "<style scoped>\n",
       "    .dataframe tbody tr th:only-of-type {\n",
       "        vertical-align: middle;\n",
       "    }\n",
       "\n",
       "    .dataframe tbody tr th {\n",
       "        vertical-align: top;\n",
       "    }\n",
       "\n",
       "    .dataframe thead th {\n",
       "        text-align: right;\n",
       "    }\n",
       "</style>\n",
       "<table border=\"1\" class=\"dataframe\">\n",
       "  <thead>\n",
       "    <tr style=\"text-align: right;\">\n",
       "      <th></th>\n",
       "      <th>text</th>\n",
       "      <th>target</th>\n",
       "    </tr>\n",
       "  </thead>\n",
       "  <tbody>\n",
       "    <tr>\n",
       "      <th>7345</th>\n",
       "      <td>residents return to destroyed homes as washin...</td>\n",
       "      <td>1</td>\n",
       "    </tr>\n",
       "    <tr>\n",
       "      <th>956</th>\n",
       "      <td>handbags genuine mulberry antony cross body ...</td>\n",
       "      <td>0</td>\n",
       "    </tr>\n",
       "    <tr>\n",
       "      <th>5823</th>\n",
       "      <td>360wisenews  chinas stock market crash are th...</td>\n",
       "      <td>1</td>\n",
       "    </tr>\n",
       "    <tr>\n",
       "      <th>5833</th>\n",
       "      <td>360wisenews  chinas stock market crash are th...</td>\n",
       "      <td>1</td>\n",
       "    </tr>\n",
       "    <tr>\n",
       "      <th>5817</th>\n",
       "      <td>360wisenews  chinas stock market crash are th...</td>\n",
       "      <td>0</td>\n",
       "    </tr>\n",
       "  </tbody>\n",
       "</table>\n",
       "</div>"
      ],
      "text/plain": [
       "                                                   text  target\n",
       "7345   residents return to destroyed homes as washin...       1\n",
       "956     handbags genuine mulberry antony cross body ...       0\n",
       "5823   360wisenews  chinas stock market crash are th...       1\n",
       "5833   360wisenews  chinas stock market crash are th...       1\n",
       "5817   360wisenews  chinas stock market crash are th...       0"
      ]
     },
     "execution_count": 20,
     "metadata": {},
     "output_type": "execute_result"
    }
   ],
   "source": [
    "df_train.drop(['id'],axis=1, inplace = True)\n",
    "df_train.head()"
   ]
  },
  {
   "cell_type": "code",
   "execution_count": 21,
   "metadata": {},
   "outputs": [
    {
     "name": "stdout",
     "output_type": "stream",
     "text": [
      "1787    6035\n",
      "666     2168\n",
      "93       317\n",
      "2924    9682\n",
      "1735    5857\n",
      "        ... \n",
      "2763    9189\n",
      "905     2981\n",
      "1096    3612\n",
      "235      764\n",
      "1061    3491\n",
      "Name: id, Length: 3263, dtype: int16\n"
     ]
    }
   ],
   "source": [
    "test_id = df_test['id']\n",
    "print(test_id)"
   ]
  },
  {
   "cell_type": "code",
   "execution_count": 23,
   "metadata": {},
   "outputs": [],
   "source": [
    "df_test.drop(['id'],axis = 1, inplace = True)"
   ]
  },
  {
   "cell_type": "code",
   "execution_count": 24,
   "metadata": {},
   "outputs": [
    {
     "data": {
      "text/html": [
       "<div>\n",
       "<style scoped>\n",
       "    .dataframe tbody tr th:only-of-type {\n",
       "        vertical-align: middle;\n",
       "    }\n",
       "\n",
       "    .dataframe tbody tr th {\n",
       "        vertical-align: top;\n",
       "    }\n",
       "\n",
       "    .dataframe thead th {\n",
       "        text-align: right;\n",
       "    }\n",
       "</style>\n",
       "<table border=\"1\" class=\"dataframe\">\n",
       "  <thead>\n",
       "    <tr style=\"text-align: right;\">\n",
       "      <th></th>\n",
       "      <th>text</th>\n",
       "    </tr>\n",
       "  </thead>\n",
       "  <tbody>\n",
       "    <tr>\n",
       "      <th>1787</th>\n",
       "      <td>i added some dumb ideas to beat the  summer he...</td>\n",
       "    </tr>\n",
       "    <tr>\n",
       "      <th>666</th>\n",
       "      <td>if a 1 rise in wages is going to have such a c...</td>\n",
       "    </tr>\n",
       "    <tr>\n",
       "      <th>93</th>\n",
       "      <td>how do i step outside for 5 seconds and get an...</td>\n",
       "    </tr>\n",
       "    <tr>\n",
       "      <th>2924</th>\n",
       "      <td>tornado warnings issued for southern alberta</td>\n",
       "    </tr>\n",
       "    <tr>\n",
       "      <th>1735</th>\n",
       "      <td>get out of the hailstorm and come down to  the...</td>\n",
       "    </tr>\n",
       "  </tbody>\n",
       "</table>\n",
       "</div>"
      ],
      "text/plain": [
       "                                                   text\n",
       "1787  i added some dumb ideas to beat the  summer he...\n",
       "666   if a 1 rise in wages is going to have such a c...\n",
       "93    how do i step outside for 5 seconds and get an...\n",
       "2924      tornado warnings issued for southern alberta \n",
       "1735  get out of the hailstorm and come down to  the..."
      ]
     },
     "execution_count": 24,
     "metadata": {},
     "output_type": "execute_result"
    }
   ],
   "source": [
    "df_test.head()"
   ]
  },
  {
   "cell_type": "code",
   "execution_count": 47,
   "metadata": {},
   "outputs": [
    {
     "name": "stdout",
     "output_type": "stream",
     "text": [
      "7503\n",
      "3263\n"
     ]
    }
   ],
   "source": [
    "print(len(df_train))\n",
    "print(len(df_test))"
   ]
  },
  {
   "cell_type": "code",
   "execution_count": 63,
   "metadata": {},
   "outputs": [],
   "source": [
    "# LSTM \n",
    "\n",
    "word2idx = {}\n",
    "new_embedding_index = {} # new one \n",
    "\n",
    "embed_keys = embeddings_index.keys()\n",
    "\n",
    "train_X_list = []\n",
    "index = 1"
   ]
  },
  {
   "cell_type": "code",
   "execution_count": 67,
   "metadata": {},
   "outputs": [],
   "source": [
    "for x in df_train['text']:\n",
    "        list1 = x.split(' ')\n",
    "        new_list = []\n",
    "        for i in list1:\n",
    "            if((i in embed_keys)  and (i not in word2idx.keys())): # if this word in the embed_keys or word2idx \n",
    "                new_embedding_index[index] = embeddings_index[i]\n",
    "                word2idx[i] = index\n",
    "#                 print(word2idx[i])\n",
    "                new_list.append(index)\n",
    "                index=index+1   \n",
    "                \n",
    "            elif(i not in word2idx.keys()):  # if this word is not in  the embed_keys or word2idx \n",
    "                new_embedding_index[index] = np.array(np.random.randn(50)).astype(np.float) # give a random matrix\n",
    "                word2idx[i] = index\n",
    "                new_list.append(index)\n",
    "                index=index+1   \n",
    "\n",
    "            else:\n",
    "#                 print(word2idx[i])\n",
    "                new_list.append(word2idx[i])\n",
    "#         print(new_list)\n",
    "        train_X_list.append(new_list)"
   ]
  },
  {
   "cell_type": "code",
   "execution_count": 37,
   "metadata": {},
   "outputs": [
    {
     "name": "stdout",
     "output_type": "stream",
     "text": [
      "<class 'list'>\n"
     ]
    }
   ],
   "source": [
    "print(type(train_X_list))"
   ]
  },
  {
   "cell_type": "code",
   "execution_count": 81,
   "metadata": {},
   "outputs": [],
   "source": [
    "test_X_list = []\n",
    "index = len(word2idx)+1\n",
    "\n",
    "embed_keys = embeddings_index.keys()\n",
    "for x in df_test['text']:\n",
    "#         print(x)\n",
    "        list1 = x.split(' ')\n",
    "#         print(list1)\n",
    "        new_list = []\n",
    "        for i in list1:\n",
    "            if((i in embed_keys)  and (i not in word2idx.keys())):\n",
    "                new_embedding_index[index] = embeddings_index[i]\n",
    "                word2idx[i] = index\n",
    "                new_list.append(index)\n",
    "                index=index+1   \n",
    "                \n",
    "            elif(i not in word2idx.keys()):\n",
    "                new_embedding_index[index] = np.array(np.random.randn(50)).astype(np.float)\n",
    "                word2idx[i] = index\n",
    "                new_list.append(index)\n",
    "                index=index+1   \n",
    "\n",
    "            else:\n",
    "                new_list.append(word2idx[i])\n",
    "\n",
    "        test_X_list.append(new_list)"
   ]
  },
  {
   "cell_type": "code",
   "execution_count": 82,
   "metadata": {},
   "outputs": [
    {
     "name": "stdout",
     "output_type": "stream",
     "text": [
      "3263\n",
      "22652\n",
      "30015\n"
     ]
    }
   ],
   "source": [
    "print(len(test_X_list))\n",
    "print(len(new_embedding_index))\n",
    "print(len(train_X_list))"
   ]
  },
  {
   "cell_type": "code",
   "execution_count": 83,
   "metadata": {},
   "outputs": [
    {
     "name": "stdout",
     "output_type": "stream",
     "text": [
      "55\n",
      "34\n"
     ]
    }
   ],
   "source": [
    "print(max(map(len, train_X_list)) )\n",
    "print(max(map(len, test_X_list)) )"
   ]
  },
  {
   "cell_type": "code",
   "execution_count": 94,
   "metadata": {},
   "outputs": [],
   "source": [
    "# fixed padding\n",
    "def pad_features(reviews_int, seq_length):\n",
    "    features = np.zeros((len(reviews_int), seq_length), dtype = int)\n",
    "    for i, review in enumerate(reviews_int):\n",
    "        review_len = len(review)\n",
    "        \n",
    "        if review_len <= seq_length:\n",
    "            zeroes = list(np.zeros(seq_length-review_len))\n",
    "            new = zeroes+review \n",
    "        \n",
    "        elif review_len > seq_length:\n",
    "            new = review[0:seq_length]\n",
    "        \n",
    "        features[i,:] = np.array(new)\n",
    "    \n",
    "    return features"
   ]
  },
  {
   "cell_type": "code",
   "execution_count": 95,
   "metadata": {},
   "outputs": [
    {
     "ename": "ValueError",
     "evalue": "operands could not be broadcast together with shapes (0,) (55,) ",
     "output_type": "error",
     "traceback": [
      "\u001b[1;31m---------------------------------------------------------------------------\u001b[0m",
      "\u001b[1;31mValueError\u001b[0m                                Traceback (most recent call last)",
      "\u001b[1;32m<ipython-input-95-430bfed287b2>\u001b[0m in \u001b[0;36m<module>\u001b[1;34m()\u001b[0m\n\u001b[1;32m----> 1\u001b[1;33m \u001b[0mtrain_X_list\u001b[0m \u001b[1;33m=\u001b[0m \u001b[0mpad_features\u001b[0m\u001b[1;33m(\u001b[0m\u001b[0mtrain_X_list\u001b[0m\u001b[1;33m,\u001b[0m\u001b[1;36m55\u001b[0m\u001b[1;33m)\u001b[0m\u001b[1;33m\u001b[0m\u001b[1;33m\u001b[0m\u001b[0m\n\u001b[0m\u001b[0;32m      2\u001b[0m \u001b[1;33m\u001b[0m\u001b[0m\n\u001b[0;32m      3\u001b[0m \u001b[1;32mfor\u001b[0m \u001b[0mi\u001b[0m \u001b[1;32min\u001b[0m \u001b[0mrange\u001b[0m\u001b[1;33m(\u001b[0m\u001b[1;36m3\u001b[0m\u001b[1;33m)\u001b[0m\u001b[1;33m:\u001b[0m\u001b[1;33m\u001b[0m\u001b[1;33m\u001b[0m\u001b[0m\n\u001b[0;32m      4\u001b[0m     \u001b[0mextra_list\u001b[0m \u001b[1;33m=\u001b[0m\u001b[1;33m[\u001b[0m\u001b[0mnp\u001b[0m\u001b[1;33m.\u001b[0m\u001b[0marray\u001b[0m\u001b[1;33m(\u001b[0m\u001b[0mnp\u001b[0m\u001b[1;33m.\u001b[0m\u001b[0mzeros\u001b[0m\u001b[1;33m(\u001b[0m\u001b[1;36m55\u001b[0m\u001b[1;33m)\u001b[0m\u001b[1;33m.\u001b[0m\u001b[0mastype\u001b[0m\u001b[1;33m(\u001b[0m\u001b[0mint\u001b[0m\u001b[1;33m)\u001b[0m\u001b[1;33m)\u001b[0m\u001b[1;33m]\u001b[0m\u001b[1;33m\u001b[0m\u001b[1;33m\u001b[0m\u001b[0m\n\u001b[0;32m      5\u001b[0m     \u001b[0mtrain_X_list\u001b[0m \u001b[1;33m=\u001b[0m  \u001b[0mnp\u001b[0m\u001b[1;33m.\u001b[0m\u001b[0mappend\u001b[0m\u001b[1;33m(\u001b[0m\u001b[0mtrain_X_list\u001b[0m\u001b[1;33m,\u001b[0m\u001b[0mextra_list\u001b[0m\u001b[1;33m,\u001b[0m \u001b[0maxis\u001b[0m\u001b[1;33m=\u001b[0m\u001b[1;36m0\u001b[0m\u001b[1;33m)\u001b[0m\u001b[1;33m\u001b[0m\u001b[1;33m\u001b[0m\u001b[0m\n",
      "\u001b[1;32m<ipython-input-94-6af81973651b>\u001b[0m in \u001b[0;36mpad_features\u001b[1;34m(reviews_int, seq_length)\u001b[0m\n\u001b[0;32m      7\u001b[0m         \u001b[1;32mif\u001b[0m \u001b[0mreview_len\u001b[0m \u001b[1;33m<=\u001b[0m \u001b[0mseq_length\u001b[0m\u001b[1;33m:\u001b[0m\u001b[1;33m\u001b[0m\u001b[1;33m\u001b[0m\u001b[0m\n\u001b[0;32m      8\u001b[0m             \u001b[0mzeroes\u001b[0m \u001b[1;33m=\u001b[0m \u001b[0mlist\u001b[0m\u001b[1;33m(\u001b[0m\u001b[0mnp\u001b[0m\u001b[1;33m.\u001b[0m\u001b[0mzeros\u001b[0m\u001b[1;33m(\u001b[0m\u001b[0mseq_length\u001b[0m\u001b[1;33m-\u001b[0m\u001b[0mreview_len\u001b[0m\u001b[1;33m)\u001b[0m\u001b[1;33m)\u001b[0m\u001b[1;33m\u001b[0m\u001b[1;33m\u001b[0m\u001b[0m\n\u001b[1;32m----> 9\u001b[1;33m             \u001b[0mnew\u001b[0m \u001b[1;33m=\u001b[0m \u001b[0mzeroes\u001b[0m\u001b[1;33m+\u001b[0m\u001b[0mreview\u001b[0m\u001b[1;33m\u001b[0m\u001b[1;33m\u001b[0m\u001b[0m\n\u001b[0m\u001b[0;32m     10\u001b[0m \u001b[1;33m\u001b[0m\u001b[0m\n\u001b[0;32m     11\u001b[0m         \u001b[1;32melif\u001b[0m \u001b[0mreview_len\u001b[0m \u001b[1;33m>\u001b[0m \u001b[0mseq_length\u001b[0m\u001b[1;33m:\u001b[0m\u001b[1;33m\u001b[0m\u001b[1;33m\u001b[0m\u001b[0m\n",
      "\u001b[1;31mValueError\u001b[0m: operands could not be broadcast together with shapes (0,) (55,) "
     ]
    }
   ],
   "source": [
    "train_X_list = pad_features(train_X_list,55)\n",
    "\n",
    "for i in range(3):\n",
    "    extra_list =[np.array(np.zeros(55).astype(int))]\n",
    "    train_X_list =  np.append(train_X_list,extra_list, axis=0)\n",
    "    \n",
    "print(len(train_X_list))  "
   ]
  },
  {
   "cell_type": "code",
   "execution_count": null,
   "metadata": {},
   "outputs": [],
   "source": []
  }
 ],
 "metadata": {
  "kernelspec": {
   "display_name": "Python 3",
   "language": "python",
   "name": "python3"
  },
  "language_info": {
   "codemirror_mode": {
    "name": "ipython",
    "version": 3
   },
   "file_extension": ".py",
   "mimetype": "text/x-python",
   "name": "python",
   "nbconvert_exporter": "python",
   "pygments_lexer": "ipython3",
   "version": "3.6.10"
  }
 },
 "nbformat": 4,
 "nbformat_minor": 4
}
