{
 "cells": [
  {
   "cell_type": "markdown",
   "metadata": {},
   "source": [
    "# Training an image classifier"
   ]
  },
  {
   "cell_type": "raw",
   "metadata": {},
   "source": [
    "We will do the following steps in order:\n",
    "\n",
    "Load and normalizing the CIFAR10 training and test datasets using torchvision\n",
    "Define a Convolutional Neural Network\n",
    "Define a loss function\n",
    "Train the network on the training data\n",
    "Test the network on the test data"
   ]
  },
  {
   "cell_type": "raw",
   "metadata": {},
   "source": [
    "1. Loading and normalizing CIFAR10 "
   ]
  },
  {
   "cell_type": "code",
   "execution_count": 2,
   "metadata": {},
   "outputs": [],
   "source": [
    "import torch\n",
    "import torchvision\n",
    "import torchvision.transforms as transforms"
   ]
  },
  {
   "cell_type": "code",
   "execution_count": 3,
   "metadata": {},
   "outputs": [
    {
     "name": "stdout",
     "output_type": "stream",
     "text": [
      "Files already downloaded and verified\n",
      "Files already downloaded and verified\n"
     ]
    }
   ],
   "source": [
    "# transform\n",
    "transform = transforms.Compose(\n",
    "    [transforms.ToTensor(),\n",
    "     transforms.Normalize((0.5, 0.5, 0.5), (0.5, 0.5, 0.5))])\n",
    "\n",
    "\n",
    "trainset = torchvision.datasets.CIFAR10(root='./data', train=True,\n",
    "                                        download=True, transform=transform)\n",
    "\n",
    "\n",
    "trainloader = torch.utils.data.DataLoader(trainset, batch_size=4,\n",
    "                                          shuffle=True, num_workers=2)\n",
    "\n",
    "\n",
    "testset = torchvision.datasets.CIFAR10(root='./data', train=False,\n",
    "                                       download=True, transform=transform)\n",
    "\n",
    "\n",
    "testloader = torch.utils.data.DataLoader(testset, batch_size=4,\n",
    "                                         shuffle=False, num_workers=2)\n",
    "\n",
    "\n",
    "classes = ('plane', 'car', 'bird', 'cat',\n",
    "           'deer', 'dog', 'frog', 'horse', 'ship', 'truck')\n",
    "\n",
    "\n",
    "\n"
   ]
  },
  {
   "cell_type": "code",
   "execution_count": 4,
   "metadata": {},
   "outputs": [
    {
     "name": "stdout",
     "output_type": "stream",
     "text": [
      "tensor([[[[-0.9922, -0.9529, -0.8196,  ...,  0.2941, -0.0196, -0.8902],\n",
      "          [-0.9529, -0.9059, -0.7725,  ...,  0.5059,  0.1765, -0.7961],\n",
      "          [-0.8588, -0.8118, -0.6863,  ...,  0.6314,  0.4118, -0.4667],\n",
      "          ...,\n",
      "          [ 0.1686,  0.0667, -0.0588,  ...,  0.1373,  0.1216,  0.1451],\n",
      "          [ 0.1294,  0.1529,  0.1765,  ...,  0.1137,  0.1294,  0.1529],\n",
      "          [ 0.0902,  0.0980,  0.1137,  ...,  0.1137,  0.1137,  0.1294]],\n",
      "\n",
      "         [[ 0.2392,  0.2078,  0.2471,  ...,  0.3882,  0.4353,  0.1294],\n",
      "          [ 0.2706,  0.2471,  0.2784,  ...,  0.5765,  0.6078,  0.1922],\n",
      "          [ 0.2941,  0.2706,  0.2941,  ...,  0.6627,  0.7020,  0.2863],\n",
      "          ...,\n",
      "          [ 0.2863,  0.1529, -0.0039,  ...,  0.2078,  0.2000,  0.2235],\n",
      "          [ 0.2627,  0.2549,  0.2549,  ...,  0.2000,  0.2078,  0.2314],\n",
      "          [ 0.2314,  0.2000,  0.2078,  ...,  0.1922,  0.1922,  0.2078]],\n",
      "\n",
      "         [[ 0.5373,  0.5216,  0.5294,  ...,  0.4275,  0.6235,  0.4588],\n",
      "          [ 0.5843,  0.5765,  0.5765,  ...,  0.6392,  0.7804,  0.4980],\n",
      "          [ 0.6000,  0.5922,  0.5765,  ...,  0.7490,  0.8118,  0.5216],\n",
      "          ...,\n",
      "          [ 0.2784,  0.1608,  0.0196,  ...,  0.2078,  0.2157,  0.2314],\n",
      "          [ 0.2549,  0.2549,  0.2627,  ...,  0.1922,  0.2157,  0.2392],\n",
      "          [ 0.2157,  0.2000,  0.2078,  ...,  0.1843,  0.2000,  0.2157]]],\n",
      "\n",
      "\n",
      "        [[[ 0.6157,  0.8039,  0.8118,  ...,  0.8431,  0.3961, -0.0039],\n",
      "          [ 0.6235,  0.8588,  0.9216,  ...,  0.8275,  0.3020, -0.0196],\n",
      "          [ 0.6863,  0.9137,  0.9529,  ...,  0.7647,  0.2000,  0.0039],\n",
      "          ...,\n",
      "          [-0.9843, -0.9843, -0.9843,  ...,  0.4510,  0.2863,  0.0196],\n",
      "          [-0.9765, -0.9765, -0.9843,  ...,  0.9843,  0.9294,  0.8039],\n",
      "          [-0.9686, -0.9765, -0.9765,  ...,  0.9765,  0.9608,  0.9765]],\n",
      "\n",
      "         [[ 0.2000,  0.4039,  0.4118,  ...,  0.9216,  0.3412, -0.5451],\n",
      "          [ 0.1843,  0.4275,  0.5059,  ...,  0.9451,  0.1216, -0.5922],\n",
      "          [ 0.1608,  0.3804,  0.4824,  ...,  0.8667, -0.0824, -0.5843],\n",
      "          ...,\n",
      "          [-0.9686, -0.9686, -0.9686,  ...,  0.6627,  0.5451,  0.3804],\n",
      "          [-0.9608, -0.9608, -0.9608,  ...,  1.0000,  0.9529,  0.8667],\n",
      "          [-0.9529, -0.9608, -0.9608,  ...,  0.9843,  0.9608,  0.9765]],\n",
      "\n",
      "         [[ 0.1451,  0.4353,  0.4353,  ...,  0.6627,  0.1059, -0.6000],\n",
      "          [ 0.0980,  0.4431,  0.5451,  ...,  0.6941, -0.0824, -0.6549],\n",
      "          [ 0.0353,  0.3490,  0.4667,  ...,  0.6314, -0.2471, -0.6314],\n",
      "          ...,\n",
      "          [-0.9922, -0.9922, -0.9922,  ...,  0.5922,  0.4745,  0.2941],\n",
      "          [-0.9843, -0.9843, -0.9843,  ...,  0.9922,  0.9451,  0.8588],\n",
      "          [-0.9765, -0.9843, -0.9843,  ...,  0.9843,  0.9686,  0.9765]]],\n",
      "\n",
      "\n",
      "        [[[-0.4745, -0.5608, -0.6235,  ..., -0.6000, -0.6078, -0.0353],\n",
      "          [-0.4431, -0.4039, -0.5529,  ..., -0.5451, -0.7647, -0.3020],\n",
      "          [-0.4353, -0.4275, -0.3647,  ..., -0.4824, -0.4588, -0.4588],\n",
      "          ...,\n",
      "          [-0.6941, -0.7333, -0.7255,  ...,  0.1686,  0.1137, -0.2000],\n",
      "          [-0.3412, -0.4667, -0.4824,  ..., -0.3647, -0.3255, -0.0824],\n",
      "          [ 0.2627,  0.1529,  0.1216,  ...,  0.0431,  0.0353,  0.2314]],\n",
      "\n",
      "         [[-0.4745, -0.5686, -0.6235,  ..., -0.2941, -0.3333,  0.0353],\n",
      "          [-0.4431, -0.4118, -0.5451,  ...,  0.0039, -0.4980, -0.3255],\n",
      "          [-0.4353, -0.4353, -0.3647,  ..., -0.0196, -0.2549, -0.4275],\n",
      "          ...,\n",
      "          [-0.7176, -0.7569, -0.7490,  ...,  0.1451,  0.1216, -0.2235],\n",
      "          [-0.3804, -0.5059, -0.5137,  ..., -0.3961, -0.3333, -0.1137],\n",
      "          [ 0.2314,  0.1216,  0.0902,  ...,  0.0039,  0.0353,  0.2000]],\n",
      "\n",
      "         [[-0.6706, -0.7255, -0.7725,  ..., -0.1843, -0.2235,  0.0588],\n",
      "          [-0.6392, -0.5686, -0.7176,  ...,  0.1686, -0.5529, -0.3490],\n",
      "          [-0.6314, -0.5922, -0.4902,  ...,  0.0824, -0.2471, -0.4667],\n",
      "          ...,\n",
      "          [-0.7490, -0.7882, -0.7961,  ...,  0.1529,  0.1216, -0.2157],\n",
      "          [-0.3333, -0.4667, -0.5294,  ..., -0.3569, -0.3020, -0.0745],\n",
      "          [ 0.2392,  0.1294,  0.0980,  ...,  0.0745,  0.0902,  0.2627]]],\n",
      "\n",
      "\n",
      "        [[[-0.4745, -0.5608, -0.6471,  ..., -0.0745, -0.1922, -0.1137],\n",
      "          [-0.5686, -0.5765, -0.5373,  ..., -0.4667, -0.3569,  0.0902],\n",
      "          [-0.7412, -0.6863, -0.4510,  ..., -0.4196, -0.3569, -0.1059],\n",
      "          ...,\n",
      "          [-0.0745, -0.0980, -0.1373,  ...,  0.0510,  0.0510,  0.1843],\n",
      "          [-0.1216, -0.1137, -0.1137,  ..., -0.0902, -0.0431,  0.1451],\n",
      "          [-0.0980, -0.0824, -0.0980,  ..., -0.0118, -0.0667,  0.0118]],\n",
      "\n",
      "         [[-0.2706, -0.4039, -0.5137,  ...,  0.0588, -0.0510,  0.0353],\n",
      "          [-0.4039, -0.4275, -0.3961,  ..., -0.4745, -0.2941,  0.2314],\n",
      "          [-0.6000, -0.5529, -0.3098,  ..., -0.5686, -0.3804,  0.0039],\n",
      "          ...,\n",
      "          [ 0.0118, -0.0196, -0.0588,  ...,  0.1137,  0.0510,  0.1294],\n",
      "          [-0.0353, -0.0275, -0.0275,  ...,  0.0118,  0.0275,  0.1529],\n",
      "          [-0.0196,  0.0039, -0.0039,  ...,  0.1059,  0.0667,  0.1059]],\n",
      "\n",
      "         [[-0.5137, -0.6078, -0.6627,  ..., -0.1765, -0.2863, -0.2784],\n",
      "          [-0.6078, -0.6157, -0.5686,  ..., -0.5765, -0.4902, -0.1451],\n",
      "          [-0.7725, -0.7098, -0.4980,  ..., -0.5137, -0.4667, -0.3098],\n",
      "          ...,\n",
      "          [-0.3255, -0.3176, -0.3725,  ..., -0.1216, -0.1373,  0.0275],\n",
      "          [-0.3490, -0.3412, -0.3804,  ..., -0.2549, -0.1765,  0.0431],\n",
      "          [-0.3255, -0.3255, -0.3647,  ..., -0.1608, -0.1686, -0.0353]]]])\n",
      "tensor([9, 3, 7, 7])\n"
     ]
    },
    {
     "data": {
      "text/plain": [
       "<Figure size 640x480 with 1 Axes>"
      ]
     },
     "metadata": {},
     "output_type": "display_data"
    },
    {
     "name": "stdout",
     "output_type": "stream",
     "text": [
      "truck   cat horse horse\n"
     ]
    }
   ],
   "source": [
    "import matplotlib.pyplot as plt\n",
    "import numpy as np\n",
    "\n",
    "# show an image \n",
    "def imshow(img):\n",
    "    img = img / 2 + 0.5\n",
    "    npimg = img.numpy()\n",
    "    plt.imshow(np.transpose(npimg, (1, 2, 0)))\n",
    "    plt.show()\n",
    "\n",
    "dataiter = iter(trainloader)   \n",
    "images , labels  = dataiter.next()\n",
    "print(images)\n",
    "print(labels)\n",
    "imshow(torchvision.utils.make_grid(images))\n",
    "print(' '.join('%5s' % classes[labels[j]] for j in range(4)))"
   ]
  },
  {
   "cell_type": "raw",
   "metadata": {},
   "source": [
    "2. Define a Convolutional Neural Network"
   ]
  },
  {
   "cell_type": "code",
   "execution_count": 5,
   "metadata": {},
   "outputs": [
    {
     "name": "stdout",
     "output_type": "stream",
     "text": [
      "Net(\n",
      "  (conv1): Conv2d(3, 6, kernel_size=(5, 5), stride=(1, 1))\n",
      "  (pool): MaxPool2d(kernel_size=2, stride=2, padding=0, dilation=1, ceil_mode=False)\n",
      "  (conv2): Conv2d(6, 16, kernel_size=(5, 5), stride=(1, 1))\n",
      "  (fc1): Linear(in_features=400, out_features=120, bias=True)\n",
      "  (fc2): Linear(in_features=120, out_features=84, bias=True)\n",
      "  (fc3): Linear(in_features=84, out_features=10, bias=True)\n",
      ")\n"
     ]
    }
   ],
   "source": [
    "import torch.nn as nn\n",
    "import torch.nn.functional as F\n",
    "\n",
    "\n",
    "class Net(nn.Module):\n",
    "    \n",
    "    def __init__(self):\n",
    "        super(Net,self).__init__()\n",
    "        '''\n",
    "        torch.nn.Conv2d(in_channels, out_channels, kernel_size, stride=1, padding=0, dilation=1, groups=1, bias=True, padding_mode='zeros')\n",
    "        '''\n",
    "        self.conv1 = nn.Conv2d(3,6,5)\n",
    "        self.pool = nn.MaxPool2d(2,2)\n",
    "        self.conv2 = nn.Conv2d(6, 16, 5)\n",
    "        self.fc1 = nn.Linear(16 * 5 * 5, 120)\n",
    "        self.fc2 = nn.Linear(120, 84)\n",
    "        self.fc3 = nn.Linear(84, 10)\n",
    "\n",
    "    def forward(self, x):\n",
    "        x = self.pool(F.relu(self.conv1(x)))\n",
    "        x = self.pool(F.relu(self.conv2(x)))\n",
    "        x = x.view(-1, 16 * 5 * 5)\n",
    "        x = F.relu(self.fc1(x))\n",
    "        x = F.relu(self.fc2(x))\n",
    "        x = self.fc3(x)\n",
    "        return x\n",
    "        \n",
    "net = Net()\n",
    "print(net)"
   ]
  },
  {
   "cell_type": "raw",
   "metadata": {},
   "source": [
    "3. Define a Loss function and optimizer"
   ]
  },
  {
   "cell_type": "code",
   "execution_count": 6,
   "metadata": {},
   "outputs": [],
   "source": [
    "import torch.optim as optim\n",
    "criterion = nn.CrossEntropyLoss()\n",
    "optimizer = optim.SGD(net.parameters(), lr=0.001, momentum=0.9)"
   ]
  },
  {
   "cell_type": "raw",
   "metadata": {},
   "source": [
    "4. Train the network"
   ]
  },
  {
   "cell_type": "code",
   "execution_count": 7,
   "metadata": {},
   "outputs": [
    {
     "name": "stdout",
     "output_type": "stream",
     "text": [
      "oepoch : 1\n",
      "[1,  2000] loss: 2.216\n",
      "[1,  4000] loss: 1.856\n",
      "[1,  6000] loss: 1.652\n",
      "[1,  8000] loss: 1.556\n",
      "[1, 10000] loss: 1.492\n",
      "[1, 12000] loss: 1.468\n",
      "oepoch : 2\n",
      "[2,  2000] loss: 1.383\n",
      "[2,  4000] loss: 1.361\n",
      "[2,  6000] loss: 1.331\n",
      "[2,  8000] loss: 1.329\n",
      "[2, 10000] loss: 1.316\n",
      "[2, 12000] loss: 1.274\n",
      "Finished Training\n"
     ]
    }
   ],
   "source": [
    "for epoch in range(2): # loop over the dataset multiple times\n",
    "    print(\"oepoch :\",epoch+1)\n",
    "    running_loss = 0.0\n",
    "    for i,data in enumerate(trainloader,0):\n",
    "        inputs,labels = data\n",
    "        \n",
    "        # zero the parameter gradients\n",
    "        optimizer.zero_grad()\n",
    "        \n",
    "        outputs = net(inputs)\n",
    "        \n",
    "        loss= criterion(outputs, labels)\n",
    "        \n",
    "        loss.backward()\n",
    "        optimizer.step()\n",
    "#         print(loss.item())\n",
    "        # print statistics\n",
    "        running_loss += loss.item()\n",
    "        if i % 2000 == 1999:    # print every 2000 mini-batches\n",
    "            print('[%d, %5d] loss: %.3f' %\n",
    "                  (epoch + 1, i + 1, running_loss / 2000))\n",
    "            running_loss = 0.0\n",
    "\n",
    "print('Finished Training')\n",
    "    "
   ]
  },
  {
   "cell_type": "code",
   "execution_count": null,
   "metadata": {},
   "outputs": [],
   "source": []
  }
 ],
 "metadata": {
  "kernelspec": {
   "display_name": "Python 3",
   "language": "python",
   "name": "python3"
  },
  "language_info": {
   "codemirror_mode": {
    "name": "ipython",
    "version": 3
   },
   "file_extension": ".py",
   "mimetype": "text/x-python",
   "name": "python",
   "nbconvert_exporter": "python",
   "pygments_lexer": "ipython3",
   "version": "3.7.4"
  }
 },
 "nbformat": 4,
 "nbformat_minor": 2
}
