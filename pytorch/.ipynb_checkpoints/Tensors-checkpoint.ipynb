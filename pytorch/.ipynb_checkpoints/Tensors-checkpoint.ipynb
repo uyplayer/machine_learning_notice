{
 "cells": [
  {
   "cell_type": "markdown",
   "metadata": {},
   "source": [
    "# Tensors"
   ]
  },
  {
   "cell_type": "code",
   "execution_count": 2,
   "metadata": {},
   "outputs": [],
   "source": [
    "from __future__ import print_function\n",
    "import torch"
   ]
  },
  {
   "cell_type": "code",
   "execution_count": 7,
   "metadata": {},
   "outputs": [
    {
     "name": "stdout",
     "output_type": "stream",
     "text": [
      "tensor([[-1.5702e-09,  4.5682e-41, -1.5702e-09],\n",
      "        [ 4.5682e-41,  4.4842e-44,  0.0000e+00],\n",
      "        [ 8.9683e-44,  0.0000e+00, -6.5492e-39],\n",
      "        [ 3.0865e-41,  8.9683e-44,  0.0000e+00],\n",
      "        [ 0.0000e+00,  0.0000e+00,  0.0000e+00]])\n",
      "torch.Size([5, 3])\n",
      "5\n",
      "3\n"
     ]
    }
   ],
   "source": [
    "# An uninitialized matrix ; these values in n uninitialized are  Arbitrary value in our memory ; \n",
    "# so  this matrix is called   An uninitialized matrix\n",
    "\n",
    "x = torch.empty(5, 3)\n",
    "print(x)\n",
    "print(x.size())\n",
    "print(x.size(0))\n",
    "print(x.size(1))"
   ]
  },
  {
   "cell_type": "code",
   "execution_count": 10,
   "metadata": {},
   "outputs": [
    {
     "name": "stdout",
     "output_type": "stream",
     "text": [
      "tensor([[0.9023, 0.7620, 0.8056],\n",
      "        [0.6631, 0.2539, 0.9194],\n",
      "        [0.4668, 0.0289, 0.8913],\n",
      "        [0.1092, 0.2412, 0.3686],\n",
      "        [0.3479, 0.7714, 0.8702]])\n"
     ]
    }
   ],
   "source": [
    "# Construct a randomly initialized matrix:\n",
    "x = torch.rand(5, 3)\n",
    "print(x)"
   ]
  },
  {
   "cell_type": "code",
   "execution_count": 12,
   "metadata": {},
   "outputs": [
    {
     "name": "stdout",
     "output_type": "stream",
     "text": [
      "tensor([[0, 0, 0],\n",
      "        [0, 0, 0],\n",
      "        [0, 0, 0],\n",
      "        [0, 0, 0],\n",
      "        [0, 0, 0]])\n"
     ]
    }
   ],
   "source": [
    "# Construct a matrix filled zeros and of dtype long:\n",
    "# define data type\n",
    "x = torch.zeros(5, 3, dtype=torch.long)\n",
    "print(x)"
   ]
  },
  {
   "cell_type": "code",
   "execution_count": 14,
   "metadata": {},
   "outputs": [
    {
     "name": "stdout",
     "output_type": "stream",
     "text": [
      "<class 'torch.Tensor'>\n",
      "tensor([5.5000, 3.0000])\n"
     ]
    }
   ],
   "source": [
    "# Construct a tensor directly from data:\n",
    "x = torch.tensor([5.5, 3])\n",
    "print(type(x))\n",
    "print(x)"
   ]
  },
  {
   "cell_type": "code",
   "execution_count": 16,
   "metadata": {},
   "outputs": [
    {
     "name": "stdout",
     "output_type": "stream",
     "text": [
      "tensor([[1., 1., 1.],\n",
      "        [1., 1., 1.],\n",
      "        [1., 1., 1.],\n",
      "        [1., 1., 1.],\n",
      "        [1., 1., 1.]], dtype=torch.float64)\n",
      "tensor([[ 1.1374,  2.4879, -1.2088],\n",
      "        [ 1.2377, -0.2502, -0.0390],\n",
      "        [-1.2462,  0.0225,  1.5966],\n",
      "        [-0.3117, -0.4609, -0.7344],\n",
      "        [ 1.2797,  0.4174,  0.3062]])\n"
     ]
    }
   ],
   "source": [
    "# define all values 1  matrix \n",
    "x = x.new_ones(5, 3, dtype=torch.double)      # new_* methods take in sizes\n",
    "print(x)\n",
    "\n",
    "# overwrite our matrix here and the size the same \n",
    "x = torch.randn_like(x, dtype=torch.float)    # override dtype!\n",
    "print(x)                                      # result has the same size"
   ]
  },
  {
   "cell_type": "code",
   "execution_count": 17,
   "metadata": {},
   "outputs": [
    {
     "name": "stdout",
     "output_type": "stream",
     "text": [
      "tensor([[ 2.0729,  2.8382, -0.7127],\n",
      "        [ 1.8837,  0.2907,  0.1853],\n",
      "        [-0.8126,  0.7166,  2.5009],\n",
      "        [ 0.4042,  0.1780,  0.2488],\n",
      "        [ 1.3099,  1.0800,  1.2435]])\n"
     ]
    }
   ],
   "source": [
    "# Operations\n",
    "y = torch.rand(5,3)\n",
    "print(x+y)"
   ]
  },
  {
   "cell_type": "code",
   "execution_count": 18,
   "metadata": {},
   "outputs": [
    {
     "name": "stdout",
     "output_type": "stream",
     "text": [
      "tensor([[ 2.0729,  2.8382, -0.7127],\n",
      "        [ 1.8837,  0.2907,  0.1853],\n",
      "        [-0.8126,  0.7166,  2.5009],\n",
      "        [ 0.4042,  0.1780,  0.2488],\n",
      "        [ 1.3099,  1.0800,  1.2435]])\n"
     ]
    }
   ],
   "source": [
    "# use method \n",
    "print(torch.add(x,y))"
   ]
  },
  {
   "cell_type": "code",
   "execution_count": 19,
   "metadata": {},
   "outputs": [
    {
     "name": "stdout",
     "output_type": "stream",
     "text": [
      "tensor([[ 2.0729,  2.8382, -0.7127],\n",
      "        [ 1.8837,  0.2907,  0.1853],\n",
      "        [-0.8126,  0.7166,  2.5009],\n",
      "        [ 0.4042,  0.1780,  0.2488],\n",
      "        [ 1.3099,  1.0800,  1.2435]])\n"
     ]
    }
   ],
   "source": [
    "# Addition: providing an output tensor as argument\n",
    "result = torch.empty(5,3)\n",
    "torch.add(x,y,out=result)\n",
    "print(result)"
   ]
  },
  {
   "cell_type": "code",
   "execution_count": 20,
   "metadata": {},
   "outputs": [
    {
     "name": "stdout",
     "output_type": "stream",
     "text": [
      "tensor([[ 2.0729,  2.8382, -0.7127],\n",
      "        [ 1.8837,  0.2907,  0.1853],\n",
      "        [-0.8126,  0.7166,  2.5009],\n",
      "        [ 0.4042,  0.1780,  0.2488],\n",
      "        [ 1.3099,  1.0800,  1.2435]])\n"
     ]
    }
   ],
   "source": [
    "# Addition: in-place\n",
    "print(y.add(x))\n"
   ]
  },
  {
   "cell_type": "code",
   "execution_count": 21,
   "metadata": {},
   "outputs": [
    {
     "name": "stdout",
     "output_type": "stream",
     "text": [
      "tensor([ 2.4879, -0.2502,  0.0225, -0.4609,  0.4174])\n"
     ]
    }
   ],
   "source": [
    "print(x[:, 1])"
   ]
  },
  {
   "cell_type": "code",
   "execution_count": 22,
   "metadata": {},
   "outputs": [],
   "source": [
    "# resize/reshape tensor\n",
    "x = torch.rand(4,4)"
   ]
  },
  {
   "cell_type": "code",
   "execution_count": 23,
   "metadata": {},
   "outputs": [
    {
     "data": {
      "text/plain": [
       "tensor([[0.7162, 0.6508, 0.1703, 0.6619],\n",
       "        [0.1648, 0.9518, 0.4104, 0.4347],\n",
       "        [0.9741, 0.3888, 0.4969, 0.9224],\n",
       "        [0.0901, 0.6819, 0.9134, 0.4725]])"
      ]
     },
     "execution_count": 23,
     "metadata": {},
     "output_type": "execute_result"
    }
   ],
   "source": [
    "x"
   ]
  },
  {
   "cell_type": "code",
   "execution_count": 25,
   "metadata": {},
   "outputs": [
    {
     "data": {
      "text/plain": [
       "tensor([0.7162, 0.6508, 0.1703, 0.6619, 0.1648, 0.9518, 0.4104, 0.4347, 0.9741,\n",
       "        0.3888, 0.4969, 0.9224, 0.0901, 0.6819, 0.9134, 0.4725])"
      ]
     },
     "execution_count": 25,
     "metadata": {},
     "output_type": "execute_result"
    }
   ],
   "source": [
    "y = x.view(16)\n",
    "y"
   ]
  },
  {
   "cell_type": "code",
   "execution_count": 26,
   "metadata": {},
   "outputs": [
    {
     "data": {
      "text/plain": [
       "tensor([[0.7162, 0.6508, 0.1703, 0.6619, 0.1648, 0.9518, 0.4104, 0.4347],\n",
       "        [0.9741, 0.3888, 0.4969, 0.9224, 0.0901, 0.6819, 0.9134, 0.4725]])"
      ]
     },
     "execution_count": 26,
     "metadata": {},
     "output_type": "execute_result"
    }
   ],
   "source": [
    "z = x.view(-1, 8)  # the size -1 is inferred from other dimensions\n",
    "z"
   ]
  },
  {
   "cell_type": "code",
   "execution_count": 27,
   "metadata": {},
   "outputs": [
    {
     "name": "stdout",
     "output_type": "stream",
     "text": [
      "torch.Size([4, 4]) torch.Size([16]) torch.Size([2, 8])\n"
     ]
    }
   ],
   "source": [
    "print(x.size(), y.size(), z.size())"
   ]
  },
  {
   "cell_type": "code",
   "execution_count": 28,
   "metadata": {},
   "outputs": [
    {
     "name": "stdout",
     "output_type": "stream",
     "text": [
      "tensor([-0.5470])\n",
      "-0.5470423102378845\n"
     ]
    }
   ],
   "source": [
    "# get the value from tensor \n",
    "x = torch.randn(1)\n",
    "print(x)\n",
    "print(x.item())"
   ]
  },
  {
   "cell_type": "code",
   "execution_count": 29,
   "metadata": {},
   "outputs": [
    {
     "name": "stdout",
     "output_type": "stream",
     "text": [
      "tensor([1., 1., 1., 1., 1.])\n"
     ]
    }
   ],
   "source": [
    "# Converting a Torch Tensor to a NumPy Array\n",
    "a = torch.ones(5)\n",
    "print(a)"
   ]
  },
  {
   "cell_type": "code",
   "execution_count": 30,
   "metadata": {},
   "outputs": [
    {
     "name": "stdout",
     "output_type": "stream",
     "text": [
      "[1. 1. 1. 1. 1.]\n"
     ]
    }
   ],
   "source": [
    "b = a.numpy()\n",
    "print(b)"
   ]
  },
  {
   "cell_type": "code",
   "execution_count": 31,
   "metadata": {},
   "outputs": [
    {
     "name": "stdout",
     "output_type": "stream",
     "text": [
      "[2. 2. 2. 2. 2.]\n",
      "tensor([2., 2., 2., 2., 2.], dtype=torch.float64)\n"
     ]
    }
   ],
   "source": [
    "# Converting NumPy Array to Torch Tensor\n",
    "import numpy as np\n",
    "a = np.ones(5)\n",
    "b = torch.from_numpy(a)\n",
    "np.add(a, 1, out=a)\n",
    "print(a)\n",
    "print(b)"
   ]
  },
  {
   "cell_type": "code",
   "execution_count": null,
   "metadata": {},
   "outputs": [],
   "source": []
  }
 ],
 "metadata": {
  "kernelspec": {
   "display_name": "Python 3",
   "language": "python",
   "name": "python3"
  },
  "language_info": {
   "codemirror_mode": {
    "name": "ipython",
    "version": 3
   },
   "file_extension": ".py",
   "mimetype": "text/x-python",
   "name": "python",
   "nbconvert_exporter": "python",
   "pygments_lexer": "ipython3",
   "version": "3.6.9"
  }
 },
 "nbformat": 4,
 "nbformat_minor": 2
}
